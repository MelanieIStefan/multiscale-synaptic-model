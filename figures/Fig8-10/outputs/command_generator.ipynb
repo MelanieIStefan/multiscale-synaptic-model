{
 "cells": [
  {
   "cell_type": "code",
   "execution_count": 2,
   "metadata": {},
   "outputs": [],
   "source": [
    "import glob\n",
    "import numpy as np"
   ]
  },
  {
   "cell_type": "code",
   "execution_count": 4,
   "metadata": {},
   "outputs": [],
   "source": [
    "copasi_duration_h = sorted(glob.glob('/home/ubuntu/MultiScale/Duration-H/*/*.cps'))"
   ]
  },
  {
   "cell_type": "code",
   "execution_count": 21,
   "metadata": {},
   "outputs": [],
   "source": [
    "strength_command = [x for x in copasi_duration_h]\n",
    "print(len(strength_command))"
   ]
  },
  {
   "cell_type": "code",
   "execution_count": 22,
   "metadata": {},
   "outputs": [],
   "source": [
    "output = '/home/ubuntu/MultiScale/Duration-H/strength_command.txt'\n",
    "with open(output, 'w') as OpenOutput:\n",
    "    for line in strength_command:\n",
    "        OpenOutput.writelines(line + '\\n')"
   ]
  },
  {
   "cell_type": "code",
   "execution_count": 6,
   "metadata": {},
   "outputs": [],
   "source": [
    "copasi_strength= sorted(glob.glob('/home/ubuntu/MultiScale/Strength//*/*.cps'))\n",
    "strength_command = [x for x in copasi_strength]\n",
    "print(len(strength_command))"
   ]
  },
  {
   "cell_type": "code",
   "execution_count": 7,
   "metadata": {},
   "outputs": [],
   "source": [
    "output = '/home/ubuntu/MultiScale/Strength/strength_command.txt'\n",
    "with open(output, 'w') as OpenOutput:\n",
    "    for line in strength_command:\n",
    "        OpenOutput.writelines(line + '\\n')"
   ]
  },
  {
   "cell_type": "code",
   "execution_count": 3,
   "metadata": {},
   "outputs": [],
   "source": [
    "copasi_timing= sorted(glob.glob('/home/ubuntu/MultiScale/Timing_2/*/*.cps'))\n",
    "timing_command = [x for x in copasi_timing]\n",
    "print(len(timing_command))"
   ]
  },
  {
   "cell_type": "code",
   "execution_count": 4,
   "metadata": {},
   "outputs": [],
   "source": [
    "output = '/home/ubuntu/MultiScale/Timing_2/timing_command.txt'\n",
    "with open(output, 'w') as OpenOutput:\n",
    "    for line in timing_command:\n",
    "        OpenOutput.writelines(line + '\\n')"
   ]
  },
  {
   "cell_type": "code",
   "execution_count": null,
   "metadata": {},
   "outputs": [],
   "source": []
  }
 ],
 "metadata": {
  "kernelspec": {
   "display_name": "Python 3",
   "language": "python",
   "name": "python3"
  },
  "language_info": {
   "codemirror_mode": {
    "name": "ipython",
    "version": 3
   },
   "file_extension": ".py",
   "mimetype": "text/x-python",
   "name": "python",
   "nbconvert_exporter": "python",
   "pygments_lexer": "ipython3",
   "version": "3.6.5"
  }
 },
 "nbformat": 4,
 "nbformat_minor": 2
}
